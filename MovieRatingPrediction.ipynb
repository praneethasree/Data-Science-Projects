{
  "nbformat": 4,
  "nbformat_minor": 0,
  "metadata": {
    "colab": {
      "provenance": []
    },
    "kernelspec": {
      "name": "python3",
      "display_name": "Python 3"
    },
    "language_info": {
      "name": "python"
    }
  },
  "cells": [
    {
      "cell_type": "code",
      "source": [
        "# Import necessary libraries\n",
        "import pandas as pd\n",
        "from sklearn.model_selection import train_test_split\n",
        "from sklearn.preprocessing import OneHotEncoder, StandardScaler\n",
        "from sklearn.linear_model import LinearRegression\n",
        "from sklearn.metrics import mean_squared_error, r2_score\n",
        "\n",
        "# Load the dataset, try specifying the encoding\n",
        "df = pd.read_csv('/content/IMDb Movies India.csv', encoding='latin-1')\n"
      ],
      "metadata": {
        "id": "RsAjNhARABun"
      },
      "execution_count": 3,
      "outputs": []
    },
    {
      "cell_type": "code",
      "source": [
        "print(df.head())"
      ],
      "metadata": {
        "colab": {
          "base_uri": "https://localhost:8080/"
        },
        "id": "7mtDAlBvAKMO",
        "outputId": "e4917689-67fc-41c9-c32f-1a0ab6c71a0c"
      },
      "execution_count": 4,
      "outputs": [
        {
          "output_type": "stream",
          "name": "stdout",
          "text": [
            "                                 Name    Year Duration            Genre  \\\n",
            "0                                         NaN      NaN            Drama   \n",
            "1  #Gadhvi (He thought he was Gandhi)  (2019)  109 min            Drama   \n",
            "2                         #Homecoming  (2021)   90 min   Drama, Musical   \n",
            "3                             #Yaaram  (2019)  110 min  Comedy, Romance   \n",
            "4                   ...And Once Again  (2010)  105 min            Drama   \n",
            "\n",
            "   Rating Votes            Director       Actor 1             Actor 2  \\\n",
            "0     NaN   NaN       J.S. Randhawa      Manmauji              Birbal   \n",
            "1     7.0     8       Gaurav Bakshi  Rasika Dugal      Vivek Ghamande   \n",
            "2     NaN   NaN  Soumyajit Majumdar  Sayani Gupta   Plabita Borthakur   \n",
            "3     4.4    35          Ovais Khan       Prateik          Ishita Raj   \n",
            "4     NaN   NaN        Amol Palekar  Rajat Kapoor  Rituparna Sengupta   \n",
            "\n",
            "           Actor 3  \n",
            "0  Rajendra Bhatia  \n",
            "1    Arvind Jangid  \n",
            "2       Roy Angana  \n",
            "3  Siddhant Kapoor  \n",
            "4      Antara Mali  \n"
          ]
        }
      ]
    },
    {
      "cell_type": "code",
      "execution_count": 10,
      "metadata": {
        "colab": {
          "base_uri": "https://localhost:8080/"
        },
        "id": "-50asJDM_YEh",
        "outputId": "0863e6a6-f674-46fa-e87a-00c5dbdbd714"
      },
      "outputs": [
        {
          "output_type": "stream",
          "name": "stdout",
          "text": [
            "Mean Squared Error (MSE): 3.471247334121333\n",
            "R-squared (R2): -0.8671201393784889\n",
            "Coefficients: [-0.57985634 -0.06465365  0.44892296 ...  0.2828926   0.\n",
            "  0.3505851 ]\n",
            "Predicted rating for the new movie: 5.253091423102215\n"
          ]
        },
        {
          "output_type": "stream",
          "name": "stderr",
          "text": [
            "/usr/local/lib/python3.10/dist-packages/sklearn/base.py:439: UserWarning: X does not have valid feature names, but OneHotEncoder was fitted with feature names\n",
            "  warnings.warn(\n"
          ]
        }
      ],
      "source": [
        "# Separate features (X) and target variable (y)\n",
        "X = df[['Genre', 'Director', 'Actor 1', 'Actor 2']] # Example features, adjust as per your dataset\n",
        "y = df['Rating']  # Target variable\n",
        "\n",
        "# Handle missing values in the target variable (y)\n",
        "# Option 1: Remove rows with missing ratings\n",
        "df_cleaned = df.dropna(subset=['Rating'])  # Create a new DataFrame without missing ratings\n",
        "X = df_cleaned[['Genre', 'Director', 'Actor 1', 'Actor 2']]\n",
        "y = df_cleaned['Rating']\n",
        "\n",
        "# Perform one-hot encoding for categorical variables (genre, director, actors)\n",
        "encoder = OneHotEncoder(handle_unknown='ignore')\n",
        "X_encoded = encoder.fit_transform(X)\n",
        "\n",
        "# Split the data into training and testing sets\n",
        "X_train, X_test, y_train, y_test = train_test_split(X_encoded, y, test_size=0.2, random_state=42)\n",
        "\n",
        "# Initialize the linear regression model\n",
        "model = LinearRegression()\n",
        "\n",
        "# Train the model\n",
        "model.fit(X_train, y_train)\n",
        "\n",
        "# Make predictions on the test set\n",
        "y_pred = model.predict(X_test)\n",
        "\n",
        "# Evaluate the model\n",
        "mse = mean_squared_error(y_test, y_pred)\n",
        "r2 = r2_score(y_test, y_pred)\n",
        "\n",
        "print(f'Mean Squared Error (MSE): {mse}')\n",
        "print(f'R-squared (R2): {r2}')\n",
        "\n",
        "# Example to print coefficients (feature importances for linear regression)\n",
        "print(\"Coefficients:\", model.coef_)\n",
        "\n",
        "# Example prediction for a new movie\n",
        "# Suppose you have a new movie with genre 'Action', director 'John Doe', and actors 'Actor A, Actor B'\n",
        "new_movie = [['Action', 'John Doe', 'Actor A', 'Actor B']] # Adjusted to match the number of features\n",
        "new_movie_encoded = encoder.transform(new_movie)\n",
        "predicted_rating = model.predict(new_movie_encoded)\n",
        "print(f'Predicted rating for the new movie: {predicted_rating[0]}')"
      ]
    },
    {
      "cell_type": "code",
      "source": [],
      "metadata": {
        "id": "CbSb6xF3_wyS"
      },
      "execution_count": null,
      "outputs": []
    }
  ]
}